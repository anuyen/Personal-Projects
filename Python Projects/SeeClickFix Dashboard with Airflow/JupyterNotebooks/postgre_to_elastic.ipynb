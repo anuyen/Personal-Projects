{
 "cells": [
  {
   "cell_type": "markdown",
   "metadata": {},
   "source": [
    "## Importing data from Postgresql to elastic, where a dashboard will use the data to display cool stuff"
   ]
  },
  {
   "cell_type": "code",
   "execution_count": 1,
   "metadata": {},
   "outputs": [
    {
     "name": "stderr",
     "output_type": "stream",
     "text": [
      "WARNING:root:OSError while attempting to symlink the latest log directory\n"
     ]
    }
   ],
   "source": [
    "import datetime as dt\n",
    "from datetime import timedelta, date\n",
    "\n",
    "from airflow import DAG\n",
    "#from airflow.operators.bash_operator import BashOperator\n",
    "#from airflow.operators.python_operator import PythonOperator\n",
    "\n",
    "import pandas as pd\n",
    "import psycopg2 as db\n",
    "from elasticsearch import Elasticsearch\n",
    "import urllib3\n",
    "urllib3.disable_warnings()"
   ]
  },
  {
   "cell_type": "markdown",
   "metadata": {},
   "source": [
    "    Query data from postgres from today only"
   ]
  },
  {
   "cell_type": "code",
   "execution_count": 6,
   "metadata": {},
   "outputs": [
    {
     "data": {
      "text/html": [
       "<pre style=\"white-space:pre;overflow-x:auto;line-height:normal;font-family:Menlo,'DejaVu Sans Mono',consolas,'Courier New',monospace\"><span style=\"color: #808000; text-decoration-color: #808000; font-weight: bold\">C:\\Users\\antng\\AppData\\Local\\Temp\\ipykernel_19264\\</span><span style=\"color: #808000; text-decoration-color: #808000; font-weight: bold\">3352194760.</span><span style=\"color: #808000; text-decoration-color: #808000; font-weight: bold\">py:</span><span style=\"color: #808000; text-decoration-color: #808000; font-weight: bold\">6</span><span style=\"color: #808000; text-decoration-color: #808000; font-weight: bold\"> UserWarning</span><span style=\"color: #808000; text-decoration-color: #808000\">: pandas only supports SQLAlchemy connectable </span><span style=\"color: #808000; text-decoration-color: #808000; font-weight: bold\">(</span><span style=\"color: #808000; text-decoration-color: #808000\">engine/connection</span><span style=\"color: #808000; text-decoration-color: #808000; font-weight: bold\">)</span><span style=\"color: #808000; text-decoration-color: #808000\"> or database string URI or sqlite3 DBAPI2 connection. Other DBAPI2 objects are not tested. Please consider using SQLAlchemy.</span>\n",
       "</pre>\n"
      ],
      "text/plain": [
       "\u001b[1;33mC:\\Users\\antng\\AppData\\Local\\Temp\\ipykernel_19264\\\u001b[0m\u001b[1;33m3352194760.\u001b[0m\u001b[1;33mpy:\u001b[0m\u001b[1;33m6\u001b[0m\u001b[1;33m UserWarning\u001b[0m\u001b[33m: pandas only supports SQLAlchemy connectable \u001b[0m\u001b[1;33m(\u001b[0m\u001b[33mengine/connection\u001b[0m\u001b[1;33m)\u001b[0m\u001b[33m or database string URI or sqlite3 DBAPI2 connection. Other DBAPI2 objects are not tested. Please consider using SQLAlchemy.\u001b[0m\n"
      ]
     },
     "metadata": {},
     "output_type": "display_data"
    }
   ],
   "source": [
    "con = \"dbname = 'postgres' host='' user='postgres' password=''\"\n",
    "connection = db.connect(con)\n",
    "d = date.today()\n",
    "#t = dt.timedelta(days=1)\n",
    "#a = d - t\n",
    "df=pd.read_sql(f\"select * from scf where date = '{d}'\",connection)"
   ]
  },
  {
   "cell_type": "code",
   "execution_count": 7,
   "metadata": {},
   "outputs": [
    {
     "data": {
      "text/html": [
       "<div>\n",
       "<style scoped>\n",
       "    .dataframe tbody tr th:only-of-type {\n",
       "        vertical-align: middle;\n",
       "    }\n",
       "\n",
       "    .dataframe tbody tr th {\n",
       "        vertical-align: top;\n",
       "    }\n",
       "\n",
       "    .dataframe thead th {\n",
       "        text-align: right;\n",
       "    }\n",
       "</style>\n",
       "<table border=\"1\" class=\"dataframe\">\n",
       "  <thead>\n",
       "    <tr style=\"text-align: right;\">\n",
       "      <th></th>\n",
       "      <th>id</th>\n",
       "      <th>summary</th>\n",
       "      <th>description</th>\n",
       "      <th>rating</th>\n",
       "      <th>full_address</th>\n",
       "      <th>date</th>\n",
       "      <th>html_url</th>\n",
       "      <th>zipcode</th>\n",
       "      <th>coordinate</th>\n",
       "    </tr>\n",
       "  </thead>\n",
       "  <tbody>\n",
       "    <tr>\n",
       "      <th>0</th>\n",
       "      <td>13718508</td>\n",
       "      <td>Park Lighting</td>\n",
       "      <td>Black light pole is loose and wobbles side to ...</td>\n",
       "      <td>2</td>\n",
       "      <td>Milpitas CA, USA</td>\n",
       "      <td>2022-11-19</td>\n",
       "      <td>https://seeclickfix.com/issues/13718508</td>\n",
       "      <td>0</td>\n",
       "      <td>{\"lat\":37.4387707321218,\"lon\":-121.883577365609}</td>\n",
       "    </tr>\n",
       "    <tr>\n",
       "      <th>1</th>\n",
       "      <td>13718464</td>\n",
       "      <td>Graffiti Removal</td>\n",
       "      <td>graffiti 16315 condit south and east sides of ...</td>\n",
       "      <td>2</td>\n",
       "      <td>16301-16483 Condit Rd Morgan Hill, CA, 95037, USA</td>\n",
       "      <td>2022-11-19</td>\n",
       "      <td>https://seeclickfix.com/issues/13718464</td>\n",
       "      <td>95037</td>\n",
       "      <td>{\"lat\":37.1242523729142,\"lon\":-121.626974723278}</td>\n",
       "    </tr>\n",
       "    <tr>\n",
       "      <th>2</th>\n",
       "      <td>13717668</td>\n",
       "      <td>Vandalism / Graffitti</td>\n",
       "      <td>My vehicle was damaged by a premediated group ...</td>\n",
       "      <td>3</td>\n",
       "      <td>190 Ranch Dr Milpitas, California, 95035</td>\n",
       "      <td>2022-11-19</td>\n",
       "      <td>https://seeclickfix.com/issues/13717668</td>\n",
       "      <td>95035</td>\n",
       "      <td>{\"lat\":37.4283980213903,\"lon\":-121.919815019667}</td>\n",
       "    </tr>\n",
       "    <tr>\n",
       "      <th>3</th>\n",
       "      <td>13717642</td>\n",
       "      <td>FM - Indoor Construction</td>\n",
       "      <td>Padding coming off this basketball hoop in eas...</td>\n",
       "      <td>2</td>\n",
       "      <td>171 W Edmundson Ave Morgan Hill CA 95037, Unit...</td>\n",
       "      <td>2022-11-19</td>\n",
       "      <td>https://seeclickfix.com/issues/13717642</td>\n",
       "      <td>95037</td>\n",
       "      <td>{\"lat\":37.1132413,\"lon\":-121.6457796}</td>\n",
       "    </tr>\n",
       "    <tr>\n",
       "      <th>4</th>\n",
       "      <td>13717574</td>\n",
       "      <td>Traffic or Street Sign Issue</td>\n",
       "      <td>Parents frequently are  ignore the sign for li...</td>\n",
       "      <td>2</td>\n",
       "      <td>17785 Vista Ave Monte Sereno, CA, 95030, USA</td>\n",
       "      <td>2022-11-19</td>\n",
       "      <td>https://seeclickfix.com/issues/13717574</td>\n",
       "      <td>95030</td>\n",
       "      <td>{\"lat\":37.2392884330469,\"lon\":-121.981868465574}</td>\n",
       "    </tr>\n",
       "  </tbody>\n",
       "</table>\n",
       "</div>"
      ],
      "text/plain": [
       "         id                       summary  \\\n",
       "0  13718508                 Park Lighting   \n",
       "1  13718464              Graffiti Removal   \n",
       "2  13717668         Vandalism / Graffitti   \n",
       "3  13717642      FM - Indoor Construction   \n",
       "4  13717574  Traffic or Street Sign Issue   \n",
       "\n",
       "                                         description  rating  \\\n",
       "0  Black light pole is loose and wobbles side to ...       2   \n",
       "1  graffiti 16315 condit south and east sides of ...       2   \n",
       "2  My vehicle was damaged by a premediated group ...       3   \n",
       "3  Padding coming off this basketball hoop in eas...       2   \n",
       "4  Parents frequently are  ignore the sign for li...       2   \n",
       "\n",
       "                                        full_address        date  \\\n",
       "0                                   Milpitas CA, USA  2022-11-19   \n",
       "1  16301-16483 Condit Rd Morgan Hill, CA, 95037, USA  2022-11-19   \n",
       "2           190 Ranch Dr Milpitas, California, 95035  2022-11-19   \n",
       "3  171 W Edmundson Ave Morgan Hill CA 95037, Unit...  2022-11-19   \n",
       "4       17785 Vista Ave Monte Sereno, CA, 95030, USA  2022-11-19   \n",
       "\n",
       "                                  html_url  zipcode  \\\n",
       "0  https://seeclickfix.com/issues/13718508        0   \n",
       "1  https://seeclickfix.com/issues/13718464    95037   \n",
       "2  https://seeclickfix.com/issues/13717668    95035   \n",
       "3  https://seeclickfix.com/issues/13717642    95037   \n",
       "4  https://seeclickfix.com/issues/13717574    95030   \n",
       "\n",
       "                                         coordinate  \n",
       "0  {\"lat\":37.4387707321218,\"lon\":-121.883577365609}  \n",
       "1  {\"lat\":37.1242523729142,\"lon\":-121.626974723278}  \n",
       "2  {\"lat\":37.4283980213903,\"lon\":-121.919815019667}  \n",
       "3             {\"lat\":37.1132413,\"lon\":-121.6457796}  \n",
       "4  {\"lat\":37.2392884330469,\"lon\":-121.981868465574}  "
      ]
     },
     "execution_count": 7,
     "metadata": {},
     "output_type": "execute_result"
    }
   ],
   "source": [
    "df.head()"
   ]
  },
  {
   "cell_type": "markdown",
   "metadata": {},
   "source": [
    "    Save to csv file"
   ]
  },
  {
   "cell_type": "code",
   "execution_count": 8,
   "metadata": {},
   "outputs": [],
   "source": [
    "df.to_csv('postgredata.csv')"
   ]
  },
  {
   "cell_type": "markdown",
   "metadata": {},
   "source": [
    "    Interact with elastic"
   ]
  },
  {
   "cell_type": "code",
   "execution_count": 17,
   "metadata": {},
   "outputs": [
    {
     "data": {
      "text/html": [
       "<pre style=\"white-space:pre;overflow-x:auto;line-height:normal;font-family:Menlo,'DejaVu Sans Mono',consolas,'Courier New',monospace\"><span style=\"color: #808000; text-decoration-color: #808000; font-weight: bold\">C:\\Users\\antng\\AppData\\Local\\Packages\\PythonSoftwareFoundation.Python.</span><span style=\"color: #808000; text-decoration-color: #808000; font-weight: bold\">3.</span><span style=\"color: #808000; text-decoration-color: #808000; font-weight: bold\">10_qbz5n2kfra8p0\\LocalCache\\local-packages\\Python310\\site-packages\\elasticsearch\\_sync\\client\\__init__.py:</span><span style=\"color: #808000; text-decoration-color: #808000; font-weight: bold\">395</span><span style=\"color: #808000; text-decoration-color: #808000; font-weight: bold\"> SecurityWarning</span><span style=\"color: #808000; text-decoration-color: #808000\">: Connecting to </span><span style=\"color: #808000; text-decoration-color: #808000\">'https://192.168.1.41:9200'</span><span style=\"color: #808000; text-decoration-color: #808000\"> using TLS with </span><span style=\"color: #808000; text-decoration-color: #808000\">verify_certs</span><span style=\"color: #808000; text-decoration-color: #808000\">=</span><span style=\"color: #808000; text-decoration-color: #808000; font-style: italic\">False</span><span style=\"color: #808000; text-decoration-color: #808000\"> is insecure</span>\n",
       "</pre>\n"
      ],
      "text/plain": [
       "\u001b[1;33mC:\\Users\\antng\\AppData\\Local\\Packages\\PythonSoftwareFoundation.Python.\u001b[0m\u001b[1;33m3.\u001b[0m\u001b[1;33m10_qbz5n2kfra8p0\\LocalCache\\local-packages\\Python310\\site-packages\\elasticsearch\\_sync\\client\\__init__.py:\u001b[0m\u001b[1;33m395\u001b[0m\u001b[1;33m SecurityWarning\u001b[0m\u001b[33m: Connecting to \u001b[0m\u001b[33m'https://192.168.1.41:9200'\u001b[0m\u001b[33m using TLS with \u001b[0m\u001b[33mverify_certs\u001b[0m\u001b[33m=\u001b[0m\u001b[3;33mFalse\u001b[0m\u001b[33m is insecure\u001b[0m\n"
      ]
     },
     "metadata": {},
     "output_type": "display_data"
    },
    {
     "data": {
      "text/html": [
       "<pre style=\"white-space:pre;overflow-x:auto;line-height:normal;font-family:Menlo,'DejaVu Sans Mono',consolas,'Courier New',monospace\"><span style=\"color: #808000; text-decoration-color: #808000; font-weight: bold\">C:\\Users\\antng\\AppData\\Local\\Temp\\ipykernel_6172\\</span><span style=\"color: #808000; text-decoration-color: #808000; font-weight: bold\">1190163643.</span><span style=\"color: #808000; text-decoration-color: #808000; font-weight: bold\">py:</span><span style=\"color: #808000; text-decoration-color: #808000; font-weight: bold\">1</span><span style=\"color: #808000; text-decoration-color: #808000; font-weight: bold\"> DeprecationWarning</span><span style=\"color: #808000; text-decoration-color: #808000\">: The </span><span style=\"color: #808000; text-decoration-color: #808000\">'http_auth'</span><span style=\"color: #808000; text-decoration-color: #808000\"> parameter is deprecated. Use </span><span style=\"color: #808000; text-decoration-color: #808000\">'basic_auth'</span><span style=\"color: #808000; text-decoration-color: #808000\"> or </span><span style=\"color: #808000; text-decoration-color: #808000\">'bearer_auth'</span><span style=\"color: #808000; text-decoration-color: #808000\"> parameters instead</span>\n",
       "</pre>\n"
      ],
      "text/plain": [
       "\u001b[1;33mC:\\Users\\antng\\AppData\\Local\\Temp\\ipykernel_6172\\\u001b[0m\u001b[1;33m1190163643.\u001b[0m\u001b[1;33mpy:\u001b[0m\u001b[1;33m1\u001b[0m\u001b[1;33m DeprecationWarning\u001b[0m\u001b[33m: The \u001b[0m\u001b[33m'http_auth'\u001b[0m\u001b[33m parameter is deprecated. Use \u001b[0m\u001b[33m'basic_auth'\u001b[0m\u001b[33m or \u001b[0m\u001b[33m'bearer_auth'\u001b[0m\u001b[33m parameters instead\u001b[0m\n"
      ]
     },
     "metadata": {},
     "output_type": "display_data"
    }
   ],
   "source": [
    "es = Elasticsearch(\n",
    "        ['https://192.168.1.41:9200'],\n",
    "        http_auth=('elastic', 'n_lYRaZWtMKXbwi_voyl'),\n",
    "        verify_certs=False\n",
    "    )"
   ]
  },
  {
   "cell_type": "code",
   "execution_count": 21,
   "metadata": {},
   "outputs": [
    {
     "data": {
      "text/html": [
       "<pre style=\"white-space:pre;overflow-x:auto;line-height:normal;font-family:Menlo,'DejaVu Sans Mono',consolas,'Courier New',monospace\"><span style=\"color: #808000; text-decoration-color: #808000; font-weight: bold\">C:\\Users\\antng\\AppData\\Local\\Temp\\ipykernel_6172\\</span><span style=\"color: #808000; text-decoration-color: #808000; font-weight: bold\">1681194311.</span><span style=\"color: #808000; text-decoration-color: #808000; font-weight: bold\">py:</span><span style=\"color: #808000; text-decoration-color: #808000; font-weight: bold\">4</span><span style=\"color: #808000; text-decoration-color: #808000; font-weight: bold\"> DeprecationWarning</span><span style=\"color: #808000; text-decoration-color: #808000\">: The </span><span style=\"color: #808000; text-decoration-color: #808000\">'body'</span><span style=\"color: #808000; text-decoration-color: #808000\"> parameter is deprecated and will be removed in a future version. Instead use the </span><span style=\"color: #808000; text-decoration-color: #808000\">'document'</span><span style=\"color: #808000; text-decoration-color: #808000\"> parameter. See </span><span style=\"color: #808000; text-decoration-color: #808000; text-decoration: underline\">https://github.com/elastic/elasticsearch-py/issues/1698</span><span style=\"color: #808000; text-decoration-color: #808000\"> for more information</span>\n",
       "</pre>\n"
      ],
      "text/plain": [
       "\u001b[1;33mC:\\Users\\antng\\AppData\\Local\\Temp\\ipykernel_6172\\\u001b[0m\u001b[1;33m1681194311.\u001b[0m\u001b[1;33mpy:\u001b[0m\u001b[1;33m4\u001b[0m\u001b[1;33m DeprecationWarning\u001b[0m\u001b[33m: The \u001b[0m\u001b[33m'body'\u001b[0m\u001b[33m parameter is deprecated and will be removed in a future version. Instead use the \u001b[0m\u001b[33m'document'\u001b[0m\u001b[33m parameter. See \u001b[0m\u001b[4;33mhttps://github.com/elastic/elasticsearch-py/issues/1698\u001b[0m\u001b[33m for more information\u001b[0m\n"
      ]
     },
     "metadata": {},
     "output_type": "display_data"
    },
    {
     "name": "stdout",
     "output_type": "stream",
     "text": [
      "[\u001b[34m2022-11-17 18:25:13,226\u001b[0m] {\u001b[34m_transport.py:\u001b[0m336} INFO\u001b[0m - PUT https://192.168.1.41:9200/frompostgresq/_doc/8 [status:201 duration:0.375s]\u001b[0m\n",
      "{'_index': 'frompostgresq', '_id': '8', '_version': 1, 'result': 'created', '_shards': {'total': 2, 'successful': 1, 'failed': 0}, '_seq_no': 0, '_primary_term': 1}\n"
     ]
    }
   ],
   "source": [
    "df=pd.read_csv('postgredata.csv')\n",
    "for i,r in df.iterrows():\n",
    "    doc = r.to_json()\n",
    "res = es.index(index=\"frompostgresq\",id=i,body=doc)\n",
    "print(res)"
   ]
  },
  {
   "cell_type": "code",
   "execution_count": 25,
   "metadata": {},
   "outputs": [
    {
     "name": "stdout",
     "output_type": "stream",
     "text": [
      "13703524\n",
      "13703017\n",
      "13702440\n",
      "13702351\n",
      "13702192\n",
      "13701906\n",
      "13701701\n",
      "13699710\n",
      "13699614\n"
     ]
    }
   ],
   "source": [
    "try:\n",
    "    df=pd.read_csv('postgredata.csv')\n",
    "except:\n",
    "    print(\"IOError OR Pandas Error\")\n",
    "for i,r in df.iterrows():\n",
    "    doc = r.to_json()\n",
    "    print(r['id'])"
   ]
  },
  {
   "cell_type": "code",
   "execution_count": 28,
   "metadata": {},
   "outputs": [
    {
     "data": {
      "text/html": [
       "<pre style=\"white-space:pre;overflow-x:auto;line-height:normal;font-family:Menlo,'DejaVu Sans Mono',consolas,'Courier New',monospace\"><span style=\"color: #808000; text-decoration-color: #808000; font-weight: bold\">C:\\Users\\antng\\AppData\\Local\\Temp\\ipykernel_6172\\</span><span style=\"color: #808000; text-decoration-color: #808000; font-weight: bold\">1035608132.</span><span style=\"color: #808000; text-decoration-color: #808000; font-weight: bold\">py:</span><span style=\"color: #808000; text-decoration-color: #808000; font-weight: bold\">7</span><span style=\"color: #808000; text-decoration-color: #808000; font-weight: bold\"> DeprecationWarning</span><span style=\"color: #808000; text-decoration-color: #808000\">: The </span><span style=\"color: #808000; text-decoration-color: #808000\">'body'</span><span style=\"color: #808000; text-decoration-color: #808000\"> parameter is deprecated and will be removed in a future version. Instead use the </span><span style=\"color: #808000; text-decoration-color: #808000\">'document'</span><span style=\"color: #808000; text-decoration-color: #808000\"> parameter. See </span><span style=\"color: #808000; text-decoration-color: #808000; text-decoration: underline\">https://github.com/elastic/elasticsearch-py/issues/1698</span><span style=\"color: #808000; text-decoration-color: #808000\"> for more information</span>\n",
       "</pre>\n"
      ],
      "text/plain": [
       "\u001b[1;33mC:\\Users\\antng\\AppData\\Local\\Temp\\ipykernel_6172\\\u001b[0m\u001b[1;33m1035608132.\u001b[0m\u001b[1;33mpy:\u001b[0m\u001b[1;33m7\u001b[0m\u001b[1;33m DeprecationWarning\u001b[0m\u001b[33m: The \u001b[0m\u001b[33m'body'\u001b[0m\u001b[33m parameter is deprecated and will be removed in a future version. Instead use the \u001b[0m\u001b[33m'document'\u001b[0m\u001b[33m parameter. See \u001b[0m\u001b[4;33mhttps://github.com/elastic/elasticsearch-py/issues/1698\u001b[0m\u001b[33m for more information\u001b[0m\n"
      ]
     },
     "metadata": {},
     "output_type": "display_data"
    },
    {
     "name": "stdout",
     "output_type": "stream",
     "text": [
      "[\u001b[34m2022-11-17 18:56:11,174\u001b[0m] {\u001b[34m_transport.py:\u001b[0m336} INFO\u001b[0m - PUT https://192.168.1.41:9200/seeclickfix/_doc/13703524 [status:201 duration:0.377s]\u001b[0m\n",
      "{'_index': 'seeclickfix', '_id': '13703524', '_version': 1, 'result': 'created', '_shards': {'total': 2, 'successful': 1, 'failed': 0}, '_seq_no': 0, '_primary_term': 1}\n",
      "[\u001b[34m2022-11-17 18:56:11,204\u001b[0m] {\u001b[34m_transport.py:\u001b[0m336} INFO\u001b[0m - PUT https://192.168.1.41:9200/seeclickfix/_doc/13703017 [status:201 duration:0.018s]\u001b[0m\n",
      "{'_index': 'seeclickfix', '_id': '13703017', '_version': 1, 'result': 'created', '_shards': {'total': 2, 'successful': 1, 'failed': 0}, '_seq_no': 1, '_primary_term': 1}\n",
      "[\u001b[34m2022-11-17 18:56:11,235\u001b[0m] {\u001b[34m_transport.py:\u001b[0m336} INFO\u001b[0m - PUT https://192.168.1.41:9200/seeclickfix/_doc/13702440 [status:201 duration:0.019s]\u001b[0m\n",
      "{'_index': 'seeclickfix', '_id': '13702440', '_version': 1, 'result': 'created', '_shards': {'total': 2, 'successful': 1, 'failed': 0}, '_seq_no': 2, '_primary_term': 1}\n",
      "[\u001b[34m2022-11-17 18:56:11,265\u001b[0m] {\u001b[34m_transport.py:\u001b[0m336} INFO\u001b[0m - PUT https://192.168.1.41:9200/seeclickfix/_doc/13702351 [status:201 duration:0.019s]\u001b[0m\n",
      "{'_index': 'seeclickfix', '_id': '13702351', '_version': 1, 'result': 'created', '_shards': {'total': 2, 'successful': 1, 'failed': 0}, '_seq_no': 3, '_primary_term': 1}\n",
      "[\u001b[34m2022-11-17 18:56:11,297\u001b[0m] {\u001b[34m_transport.py:\u001b[0m336} INFO\u001b[0m - PUT https://192.168.1.41:9200/seeclickfix/_doc/13702192 [status:201 duration:0.019s]\u001b[0m\n",
      "{'_index': 'seeclickfix', '_id': '13702192', '_version': 1, 'result': 'created', '_shards': {'total': 2, 'successful': 1, 'failed': 0}, '_seq_no': 4, '_primary_term': 1}\n",
      "[\u001b[34m2022-11-17 18:56:11,326\u001b[0m] {\u001b[34m_transport.py:\u001b[0m336} INFO\u001b[0m - PUT https://192.168.1.41:9200/seeclickfix/_doc/13701906 [status:201 duration:0.019s]\u001b[0m\n",
      "{'_index': 'seeclickfix', '_id': '13701906', '_version': 1, 'result': 'created', '_shards': {'total': 2, 'successful': 1, 'failed': 0}, '_seq_no': 5, '_primary_term': 1}\n",
      "[\u001b[34m2022-11-17 18:56:11,353\u001b[0m] {\u001b[34m_transport.py:\u001b[0m336} INFO\u001b[0m - PUT https://192.168.1.41:9200/seeclickfix/_doc/13701701 [status:201 duration:0.016s]\u001b[0m\n",
      "{'_index': 'seeclickfix', '_id': '13701701', '_version': 1, 'result': 'created', '_shards': {'total': 2, 'successful': 1, 'failed': 0}, '_seq_no': 6, '_primary_term': 1}\n",
      "[\u001b[34m2022-11-17 18:56:11,376\u001b[0m] {\u001b[34m_transport.py:\u001b[0m336} INFO\u001b[0m - PUT https://192.168.1.41:9200/seeclickfix/_doc/13699710 [status:201 duration:0.011s]\u001b[0m\n",
      "{'_index': 'seeclickfix', '_id': '13699710', '_version': 1, 'result': 'created', '_shards': {'total': 2, 'successful': 1, 'failed': 0}, '_seq_no': 7, '_primary_term': 1}\n",
      "[\u001b[34m2022-11-17 18:56:11,408\u001b[0m] {\u001b[34m_transport.py:\u001b[0m336} INFO\u001b[0m - PUT https://192.168.1.41:9200/seeclickfix/_doc/13699614 [status:201 duration:0.019s]\u001b[0m\n",
      "{'_index': 'seeclickfix', '_id': '13699614', '_version': 1, 'result': 'created', '_shards': {'total': 2, 'successful': 1, 'failed': 0}, '_seq_no': 8, '_primary_term': 1}\n"
     ]
    }
   ],
   "source": [
    "try:\n",
    "    df=pd.read_csv('postgredata.csv')\n",
    "except:\n",
    "    print(\"IOError OR Pandas Error\")\n",
    "for i,r in df.iterrows():\n",
    "    doc = r.to_json()\n",
    "    res = es.index(index=\"seeclickfix\",id=r['id'],body=doc)\n",
    "    print(res)"
   ]
  },
  {
   "cell_type": "code",
   "execution_count": 29,
   "metadata": {},
   "outputs": [
    {
     "data": {
      "text/html": [
       "<pre style=\"white-space:pre;overflow-x:auto;line-height:normal;font-family:Menlo,'DejaVu Sans Mono',consolas,'Courier New',monospace\"><span style=\"color: #808000; text-decoration-color: #808000; font-weight: bold\">C:\\Users\\antng\\AppData\\Local\\Packages\\PythonSoftwareFoundation.Python.</span><span style=\"color: #808000; text-decoration-color: #808000; font-weight: bold\">3.</span><span style=\"color: #808000; text-decoration-color: #808000; font-weight: bold\">10_qbz5n2kfra8p0\\LocalCache\\local-packages\\Python310\\site-packages\\elasticsearch\\_sync\\client\\__init__.py:</span><span style=\"color: #808000; text-decoration-color: #808000; font-weight: bold\">395</span><span style=\"color: #808000; text-decoration-color: #808000; font-weight: bold\"> SecurityWarning</span><span style=\"color: #808000; text-decoration-color: #808000\">: Connecting to </span><span style=\"color: #808000; text-decoration-color: #808000\">'https://192.168.1.41:9200'</span><span style=\"color: #808000; text-decoration-color: #808000\"> using TLS with </span><span style=\"color: #808000; text-decoration-color: #808000\">verify_certs</span><span style=\"color: #808000; text-decoration-color: #808000\">=</span><span style=\"color: #808000; text-decoration-color: #808000; font-style: italic\">False</span><span style=\"color: #808000; text-decoration-color: #808000\"> is insecure</span>\n",
       "</pre>\n"
      ],
      "text/plain": [
       "\u001b[1;33mC:\\Users\\antng\\AppData\\Local\\Packages\\PythonSoftwareFoundation.Python.\u001b[0m\u001b[1;33m3.\u001b[0m\u001b[1;33m10_qbz5n2kfra8p0\\LocalCache\\local-packages\\Python310\\site-packages\\elasticsearch\\_sync\\client\\__init__.py:\u001b[0m\u001b[1;33m395\u001b[0m\u001b[1;33m SecurityWarning\u001b[0m\u001b[33m: Connecting to \u001b[0m\u001b[33m'https://192.168.1.41:9200'\u001b[0m\u001b[33m using TLS with \u001b[0m\u001b[33mverify_certs\u001b[0m\u001b[33m=\u001b[0m\u001b[3;33mFalse\u001b[0m\u001b[33m is insecure\u001b[0m\n"
      ]
     },
     "metadata": {},
     "output_type": "display_data"
    },
    {
     "name": "stdout",
     "output_type": "stream",
     "text": [
      "[\u001b[34m2022-11-17 19:00:33,048\u001b[0m] {\u001b[34m_transport.py:\u001b[0m336} INFO\u001b[0m - POST https://192.168.1.41:9200/frompostgresq/_search [status:200 duration:0.122s]\u001b[0m\n"
     ]
    }
   ],
   "source": [
    "from elasticsearch import Elasticsearch\n",
    "es = Elasticsearch(\n",
    "    ['https://192.168.1.41:9200'],\n",
    "    basic_auth=('elastic', 'n_lYRaZWtMKXbwi_voyl'),\n",
    "    verify_certs=False\n",
    ")\n",
    "result = es.search(index='frompostgresq',size=10)"
   ]
  },
  {
   "cell_type": "code",
   "execution_count": 31,
   "metadata": {},
   "outputs": [
    {
     "name": "stdout",
     "output_type": "stream",
     "text": [
      "[{'_index': 'frompostgresq', '_id': '999', '_score': 1.0, '_source': {'Unnamed: 0': 999, 'name': 'Judy Gray', 'city': 'Pattersonburgh'}}]\n"
     ]
    }
   ],
   "source": [
    "print(result['hits']['hits'])"
   ]
  },
  {
   "cell_type": "code",
   "execution_count": 45,
   "metadata": {},
   "outputs": [],
   "source": [
    "def queryPostgresql():\n",
    "    con = \"dbname = 'postgres' host='192.168.1.41' user='' password=''\"\n",
    "    try:\n",
    "        connection = db.connect(con)\n",
    "    except:\n",
    "        print(\"Error Connecting to Postgres Database\")\n",
    "    try:\n",
    "        df=pd.read_sql(f\"select * from seeclickfix where date = '2022-11-15'\",connection)\n",
    "    except:\n",
    "        print(\"Error querying data from postgres OR pandas related Error\")\n",
    "    print(df.head())\n",
    "    df.to_csv('postgredata.csv')\n",
    "    print(\"------Data Received Successfully from Postgres------\")\n",
    "def insertElasticsearch():    \n",
    "    es = Elasticsearch(\n",
    "        ['https://192.168.1.41:9200'],\n",
    "        http_auth=('elastic', 'n_lYRaZWtMKXbwi_voyl'),\n",
    "        verify_certs=False\n",
    "    )\n",
    "    df=pd.read_csv('postgredata.csv')\n",
    "    for i,r in df.iterrows():\n",
    "        doc = r.to_json()\n",
    "        print(doc)\n",
    "        res = es.index(index=\"seeclickfix\",id=r['id'],body=doc)\n",
    "        print(res)\n",
    "    print(\"----Data Saved to Elastic!----\")\n",
    "    os.remove('postgredata.csv')"
   ]
  },
  {
   "cell_type": "code",
   "execution_count": 46,
   "metadata": {},
   "outputs": [
    {
     "data": {
      "text/html": [
       "<pre style=\"white-space:pre;overflow-x:auto;line-height:normal;font-family:Menlo,'DejaVu Sans Mono',consolas,'Courier New',monospace\"><span style=\"color: #808000; text-decoration-color: #808000; font-weight: bold\">C:\\Users\\antng\\AppData\\Local\\Temp\\ipykernel_6172\\</span><span style=\"color: #808000; text-decoration-color: #808000; font-weight: bold\">3641198477.</span><span style=\"color: #808000; text-decoration-color: #808000; font-weight: bold\">py:</span><span style=\"color: #808000; text-decoration-color: #808000; font-weight: bold\">8</span><span style=\"color: #808000; text-decoration-color: #808000; font-weight: bold\"> UserWarning</span><span style=\"color: #808000; text-decoration-color: #808000\">: pandas only supports SQLAlchemy connectable </span><span style=\"color: #808000; text-decoration-color: #808000; font-weight: bold\">(</span><span style=\"color: #808000; text-decoration-color: #808000\">engine/connection</span><span style=\"color: #808000; text-decoration-color: #808000; font-weight: bold\">)</span><span style=\"color: #808000; text-decoration-color: #808000\"> or database string URI or sqlite3 DBAPI2 connection. Other DBAPI2 objects are not tested. Please consider using SQLAlchemy.</span>\n",
       "</pre>\n"
      ],
      "text/plain": [
       "\u001b[1;33mC:\\Users\\antng\\AppData\\Local\\Temp\\ipykernel_6172\\\u001b[0m\u001b[1;33m3641198477.\u001b[0m\u001b[1;33mpy:\u001b[0m\u001b[1;33m8\u001b[0m\u001b[1;33m UserWarning\u001b[0m\u001b[33m: pandas only supports SQLAlchemy connectable \u001b[0m\u001b[1;33m(\u001b[0m\u001b[33mengine/connection\u001b[0m\u001b[1;33m)\u001b[0m\u001b[33m or database string URI or sqlite3 DBAPI2 connection. Other DBAPI2 objects are not tested. Please consider using SQLAlchemy.\u001b[0m\n"
      ]
     },
     "metadata": {},
     "output_type": "display_data"
    },
    {
     "name": "stdout",
     "output_type": "stream",
     "text": [
      "         id                                         summary  \\\n",
      "0  13703524                                  Shopping Carts   \n",
      "1  13703017                           Vandalism / Graffitti   \n",
      "2  13702440  Weed/Brush Abatement and Landscape Maintenance   \n",
      "3  13702351            Street Signs, Striping, and Markings   \n",
      "4  13702192                        Debris / Illegal Dumping   \n",
      "\n",
      "                                         description  rating        lat  \\\n",
      "0  Found a shopping cart on the sidewalk across f...       1  37.413721   \n",
      "1                            Graffiti on Utility box       2  37.423705   \n",
      "2  Hedges along street are not getting water and ...       2  37.427242   \n",
      "3  New name plate for New PW Director Christian D...       2  37.448344   \n",
      "4                       Reports of debris in roadway       2  37.445960   \n",
      "\n",
      "         long                                            address        date  \n",
      "0 -121.907905     240-268 W Capitol Ave Milpitas, CA, 95035, USA  2022-11-17  \n",
      "1 -121.869365           Westridge Dr Milpitas, California, 95035  2022-11-17  \n",
      "2 -121.924380   101-113 N Mccarthy Blvd Milpitas, CA, 95035, USA  2022-11-17  \n",
      "3 -121.910944   1265 N Milpitas Blvd Milpitas, California, 95035  2022-11-17  \n",
      "4 -121.857630  Downing Rd & Calaveras Rd Milpitas, California...  2022-11-17  \n",
      "------Data Received Successfully from Postgres------\n"
     ]
    },
    {
     "data": {
      "text/html": [
       "<pre style=\"white-space:pre;overflow-x:auto;line-height:normal;font-family:Menlo,'DejaVu Sans Mono',consolas,'Courier New',monospace\"><span style=\"color: #808000; text-decoration-color: #808000; font-weight: bold\">C:\\Users\\antng\\AppData\\Local\\Packages\\PythonSoftwareFoundation.Python.</span><span style=\"color: #808000; text-decoration-color: #808000; font-weight: bold\">3.</span><span style=\"color: #808000; text-decoration-color: #808000; font-weight: bold\">10_qbz5n2kfra8p0\\LocalCache\\local-packages\\Python310\\site-packages\\elasticsearch\\_sync\\client\\__init__.py:</span><span style=\"color: #808000; text-decoration-color: #808000; font-weight: bold\">395</span><span style=\"color: #808000; text-decoration-color: #808000; font-weight: bold\"> SecurityWarning</span><span style=\"color: #808000; text-decoration-color: #808000\">: Connecting to </span><span style=\"color: #808000; text-decoration-color: #808000\">'https://192.168.1.41:9200'</span><span style=\"color: #808000; text-decoration-color: #808000\"> using TLS with </span><span style=\"color: #808000; text-decoration-color: #808000\">verify_certs</span><span style=\"color: #808000; text-decoration-color: #808000\">=</span><span style=\"color: #808000; text-decoration-color: #808000; font-style: italic\">False</span><span style=\"color: #808000; text-decoration-color: #808000\"> is insecure</span>\n",
       "</pre>\n"
      ],
      "text/plain": [
       "\u001b[1;33mC:\\Users\\antng\\AppData\\Local\\Packages\\PythonSoftwareFoundation.Python.\u001b[0m\u001b[1;33m3.\u001b[0m\u001b[1;33m10_qbz5n2kfra8p0\\LocalCache\\local-packages\\Python310\\site-packages\\elasticsearch\\_sync\\client\\__init__.py:\u001b[0m\u001b[1;33m395\u001b[0m\u001b[1;33m SecurityWarning\u001b[0m\u001b[33m: Connecting to \u001b[0m\u001b[33m'https://192.168.1.41:9200'\u001b[0m\u001b[33m using TLS with \u001b[0m\u001b[33mverify_certs\u001b[0m\u001b[33m=\u001b[0m\u001b[3;33mFalse\u001b[0m\u001b[33m is insecure\u001b[0m\n"
      ]
     },
     "metadata": {},
     "output_type": "display_data"
    },
    {
     "data": {
      "text/html": [
       "<pre style=\"white-space:pre;overflow-x:auto;line-height:normal;font-family:Menlo,'DejaVu Sans Mono',consolas,'Courier New',monospace\"><span style=\"color: #808000; text-decoration-color: #808000; font-weight: bold\">C:\\Users\\antng\\AppData\\Local\\Temp\\ipykernel_6172\\</span><span style=\"color: #808000; text-decoration-color: #808000; font-weight: bold\">3641198477.</span><span style=\"color: #808000; text-decoration-color: #808000; font-weight: bold\">py:</span><span style=\"color: #808000; text-decoration-color: #808000; font-weight: bold\">15</span><span style=\"color: #808000; text-decoration-color: #808000; font-weight: bold\"> DeprecationWarning</span><span style=\"color: #808000; text-decoration-color: #808000\">: The </span><span style=\"color: #808000; text-decoration-color: #808000\">'http_auth'</span><span style=\"color: #808000; text-decoration-color: #808000\"> parameter is deprecated. Use </span><span style=\"color: #808000; text-decoration-color: #808000\">'basic_auth'</span><span style=\"color: #808000; text-decoration-color: #808000\"> or </span><span style=\"color: #808000; text-decoration-color: #808000\">'bearer_auth'</span><span style=\"color: #808000; text-decoration-color: #808000\"> parameters instead</span>\n",
       "</pre>\n"
      ],
      "text/plain": [
       "\u001b[1;33mC:\\Users\\antng\\AppData\\Local\\Temp\\ipykernel_6172\\\u001b[0m\u001b[1;33m3641198477.\u001b[0m\u001b[1;33mpy:\u001b[0m\u001b[1;33m15\u001b[0m\u001b[1;33m DeprecationWarning\u001b[0m\u001b[33m: The \u001b[0m\u001b[33m'http_auth'\u001b[0m\u001b[33m parameter is deprecated. Use \u001b[0m\u001b[33m'basic_auth'\u001b[0m\u001b[33m or \u001b[0m\u001b[33m'bearer_auth'\u001b[0m\u001b[33m parameters instead\u001b[0m\n"
      ]
     },
     "metadata": {},
     "output_type": "display_data"
    },
    {
     "name": "stdout",
     "output_type": "stream",
     "text": [
      "{\"Unnamed: 0\":0,\"id\":13703524,\"summary\":\"Shopping Carts\",\"description\":\"Found a shopping cart on the sidewalk across from 267\\/275 W Capitol Ave. please help to take care of it. \",\"rating\":1,\"lat\":37.4137209765,\"long\":-121.9079054681,\"address\":\"240-268 W Capitol Ave Milpitas, CA, 95035, USA\",\"date\":\"2022-11-17\"}\n"
     ]
    },
    {
     "data": {
      "text/html": [
       "<pre style=\"white-space:pre;overflow-x:auto;line-height:normal;font-family:Menlo,'DejaVu Sans Mono',consolas,'Courier New',monospace\"><span style=\"color: #808000; text-decoration-color: #808000; font-weight: bold\">C:\\Users\\antng\\AppData\\Local\\Temp\\ipykernel_6172\\</span><span style=\"color: #808000; text-decoration-color: #808000; font-weight: bold\">3641198477.</span><span style=\"color: #808000; text-decoration-color: #808000; font-weight: bold\">py:</span><span style=\"color: #808000; text-decoration-color: #808000; font-weight: bold\">24</span><span style=\"color: #808000; text-decoration-color: #808000; font-weight: bold\"> DeprecationWarning</span><span style=\"color: #808000; text-decoration-color: #808000\">: The </span><span style=\"color: #808000; text-decoration-color: #808000\">'body'</span><span style=\"color: #808000; text-decoration-color: #808000\"> parameter is deprecated and will be removed in a future version. Instead use the </span><span style=\"color: #808000; text-decoration-color: #808000\">'document'</span><span style=\"color: #808000; text-decoration-color: #808000\"> parameter. See </span><span style=\"color: #808000; text-decoration-color: #808000; text-decoration: underline\">https://github.com/elastic/elasticsearch-py/issues/1698</span><span style=\"color: #808000; text-decoration-color: #808000\"> for more information</span>\n",
       "</pre>\n"
      ],
      "text/plain": [
       "\u001b[1;33mC:\\Users\\antng\\AppData\\Local\\Temp\\ipykernel_6172\\\u001b[0m\u001b[1;33m3641198477.\u001b[0m\u001b[1;33mpy:\u001b[0m\u001b[1;33m24\u001b[0m\u001b[1;33m DeprecationWarning\u001b[0m\u001b[33m: The \u001b[0m\u001b[33m'body'\u001b[0m\u001b[33m parameter is deprecated and will be removed in a future version. Instead use the \u001b[0m\u001b[33m'document'\u001b[0m\u001b[33m parameter. See \u001b[0m\u001b[4;33mhttps://github.com/elastic/elasticsearch-py/issues/1698\u001b[0m\u001b[33m for more information\u001b[0m\n"
      ]
     },
     "metadata": {},
     "output_type": "display_data"
    },
    {
     "name": "stdout",
     "output_type": "stream",
     "text": [
      "[\u001b[34m2022-11-17 19:44:28,365\u001b[0m] {\u001b[34m_transport.py:\u001b[0m336} INFO\u001b[0m - PUT https://192.168.1.41:9200/seeclickfix/_doc/13703524 [status:201 duration:0.149s]\u001b[0m\n",
      "{'_index': 'seeclickfix', '_id': '13703524', '_version': 1, 'result': 'created', '_shards': {'total': 2, 'successful': 1, 'failed': 0}, '_seq_no': 6, '_primary_term': 1}\n",
      "{\"Unnamed: 0\":1,\"id\":13703017,\"summary\":\"Vandalism \\/ Graffitti\",\"description\":\"Graffiti on Utility box\",\"rating\":2,\"lat\":37.4237053577,\"long\":-121.8693649728,\"address\":\"Westridge Dr Milpitas, California, 95035\",\"date\":\"2022-11-17\"}\n",
      "[\u001b[34m2022-11-17 19:44:28,400\u001b[0m] {\u001b[34m_transport.py:\u001b[0m336} INFO\u001b[0m - PUT https://192.168.1.41:9200/seeclickfix/_doc/13703017 [status:201 duration:0.019s]\u001b[0m\n",
      "{'_index': 'seeclickfix', '_id': '13703017', '_version': 1, 'result': 'created', '_shards': {'total': 2, 'successful': 1, 'failed': 0}, '_seq_no': 7, '_primary_term': 1}\n",
      "{\"Unnamed: 0\":2,\"id\":13702440,\"summary\":\"Weed\\/Brush Abatement and Landscape Maintenance\",\"description\":\"Hedges along street are not getting water and are dying\\/dead\",\"rating\":2,\"lat\":37.4272415654,\"long\":-121.9243799438,\"address\":\"101-113 N Mccarthy Blvd Milpitas, CA, 95035, USA\",\"date\":\"2022-11-17\"}\n",
      "[\u001b[34m2022-11-17 19:44:28,437\u001b[0m] {\u001b[34m_transport.py:\u001b[0m336} INFO\u001b[0m - PUT https://192.168.1.41:9200/seeclickfix/_doc/13702440 [status:201 duration:0.016s]\u001b[0m\n",
      "{'_index': 'seeclickfix', '_id': '13702440', '_version': 1, 'result': 'created', '_shards': {'total': 2, 'successful': 1, 'failed': 0}, '_seq_no': 8, '_primary_term': 1}\n",
      "{\"Unnamed: 0\":3,\"id\":13702351,\"summary\":\"Street Signs, Striping, and Markings\",\"description\":\"New name plate for New PW Director Christian Di Renzo\",\"rating\":2,\"lat\":37.4483440173,\"long\":-121.9109440324,\"address\":\"1265 N Milpitas Blvd Milpitas, California, 95035\",\"date\":\"2022-11-17\"}\n",
      "[\u001b[34m2022-11-17 19:44:28,470\u001b[0m] {\u001b[34m_transport.py:\u001b[0m336} INFO\u001b[0m - PUT https://192.168.1.41:9200/seeclickfix/_doc/13702351 [status:201 duration:0.015s]\u001b[0m\n",
      "{'_index': 'seeclickfix', '_id': '13702351', '_version': 1, 'result': 'created', '_shards': {'total': 2, 'successful': 1, 'failed': 0}, '_seq_no': 9, '_primary_term': 1}\n",
      "{\"Unnamed: 0\":4,\"id\":13702192,\"summary\":\"Debris \\/ Illegal Dumping\",\"description\":\"Reports of debris in roadway\",\"rating\":2,\"lat\":37.4459599945,\"long\":-121.8576300153,\"address\":\"Downing Rd & Calaveras Rd Milpitas, California, 95035\",\"date\":\"2022-11-17\"}\n",
      "[\u001b[34m2022-11-17 19:44:28,506\u001b[0m] {\u001b[34m_transport.py:\u001b[0m336} INFO\u001b[0m - PUT https://192.168.1.41:9200/seeclickfix/_doc/13702192 [status:201 duration:0.018s]\u001b[0m\n",
      "{'_index': 'seeclickfix', '_id': '13702192', '_version': 1, 'result': 'created', '_shards': {'total': 2, 'successful': 1, 'failed': 0}, '_seq_no': 10, '_primary_term': 1}\n",
      "{\"Unnamed: 0\":5,\"id\":13701906,\"summary\":\"Tree Maintenance (Damaged \\/ Hazardous Tree \\/ Pruning \\/ Inspection)\",\"description\":\"Home owner request  tree removal roots are damaging property \",\"rating\":2,\"lat\":37.438103008,\"long\":-121.915556007,\"address\":\"561 N Abbott Ave Milpitas, California, 95035\",\"date\":\"2022-11-17\"}\n",
      "[\u001b[34m2022-11-17 19:44:28,538\u001b[0m] {\u001b[34m_transport.py:\u001b[0m336} INFO\u001b[0m - PUT https://192.168.1.41:9200/seeclickfix/_doc/13701906 [status:201 duration:0.016s]\u001b[0m\n",
      "{'_index': 'seeclickfix', '_id': '13701906', '_version': 1, 'result': 'created', '_shards': {'total': 2, 'successful': 1, 'failed': 0}, '_seq_no': 11, '_primary_term': 1}\n",
      "{\"Unnamed: 0\":6,\"id\":13701701,\"summary\":\"Vandalism \\/ Graffitti\",\"description\":\"Graffiti \",\"rating\":2,\"lat\":37.4365546112,\"long\":-121.8968445146,\"address\":\"453-473 Belshaw Dr Milpitas, CA, 95035, USA\",\"date\":\"2022-11-17\"}\n",
      "[\u001b[34m2022-11-17 19:44:28,571\u001b[0m] {\u001b[34m_transport.py:\u001b[0m336} INFO\u001b[0m - PUT https://192.168.1.41:9200/seeclickfix/_doc/13701701 [status:201 duration:0.017s]\u001b[0m\n",
      "{'_index': 'seeclickfix', '_id': '13701701', '_version': 1, 'result': 'created', '_shards': {'total': 2, 'successful': 1, 'failed': 0}, '_seq_no': 12, '_primary_term': 1}\n",
      "{\"Unnamed: 0\":7,\"id\":13699710,\"summary\":\"Abandoned Vehicles\",\"description\":\"This unknown car already park here almost 3 weeks  Please help to check this car.\",\"rating\":2,\"lat\":37.4554120143,\"long\":-121.9069150633,\"address\":\"1645 Arizona Ave \\u7c73\\u723e\\u76ae\\u5854\\u65af CA 95035, \\u7f8e\\u570b\",\"date\":\"2022-11-17\"}\n",
      "[\u001b[34m2022-11-17 19:44:28,605\u001b[0m] {\u001b[34m_transport.py:\u001b[0m336} INFO\u001b[0m - PUT https://192.168.1.41:9200/seeclickfix/_doc/13699710 [status:201 duration:0.018s]\u001b[0m\n",
      "{'_index': 'seeclickfix', '_id': '13699710', '_version': 1, 'result': 'created', '_shards': {'total': 2, 'successful': 1, 'failed': 0}, '_seq_no': 13, '_primary_term': 1}\n",
      "{\"Unnamed: 0\":8,\"id\":13699614,\"summary\":\"Pothole\\/Roadway Repairs\",\"description\":\"Pothole forming left land westbound just before going over hwy880\",\"rating\":2,\"lat\":37.4262217378,\"long\":-121.9146839953,\"address\":\"W Calaveras Blvd Milpitas, CA, 95035, USA\",\"date\":\"2022-11-17\"}\n",
      "[\u001b[34m2022-11-17 19:44:28,665\u001b[0m] {\u001b[34m_transport.py:\u001b[0m336} INFO\u001b[0m - PUT https://192.168.1.41:9200/seeclickfix/_doc/13699614 [status:201 duration:0.046s]\u001b[0m\n",
      "{'_index': 'seeclickfix', '_id': '13699614', '_version': 1, 'result': 'created', '_shards': {'total': 2, 'successful': 1, 'failed': 0}, '_seq_no': 14, '_primary_term': 1}\n",
      "----Data Saved to Elastic!----\n"
     ]
    }
   ],
   "source": [
    "queryPostgresql()\n",
    "insertElasticsearch()"
   ]
  },
  {
   "cell_type": "code",
   "execution_count": null,
   "metadata": {},
   "outputs": [],
   "source": []
  }
 ],
 "metadata": {
  "kernelspec": {
   "display_name": "Python 3.10.8 64-bit (microsoft store)",
   "language": "python",
   "name": "python3"
  },
  "language_info": {
   "codemirror_mode": {
    "name": "ipython",
    "version": 3
   },
   "file_extension": ".py",
   "mimetype": "text/x-python",
   "name": "python",
   "nbconvert_exporter": "python",
   "pygments_lexer": "ipython3",
   "version": "3.10.8"
  },
  "orig_nbformat": 4,
  "vscode": {
   "interpreter": {
    "hash": "316074517b5fe31c6053ad3df028de4621616c745734923c4443afbd31c8a500"
   }
  }
 },
 "nbformat": 4,
 "nbformat_minor": 2
}
