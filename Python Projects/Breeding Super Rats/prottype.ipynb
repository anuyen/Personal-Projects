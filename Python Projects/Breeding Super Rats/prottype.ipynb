{
 "cells": [
  {
   "attachments": {},
   "cell_type": "markdown",
   "metadata": {},
   "source": [
    "## In order to start the breeding program, we have to have a few assumptions\n",
    "\n",
    "Goal = 50,000 grams (size of a big dog)\n",
    "\n",
    "Max Rats = 20 (total number of adult rats the lab support)\n",
    "\n",
    "Initial Minimum Weight = 200 grams (Min weight of adult rat in initial population)\n",
    "\n",
    "Initial Maximum Weight = 600 grams (Max weight of adult rat in initial population)\n",
    "\n",
    "Initial Average Weight = 300 grams (Avg weight of adult rat in initial population)\n",
    "\n",
    "Mutation Odds = 0.01 (Assumed probability of mutation)\n",
    "\n",
    "Mutation Minimum = 0.5 (Scalar on rat weight of most weight reduction/least weight gain)\n",
    "\n",
    "Mutation Maximum = 1.2 (Scalar on rat weight of most weight gain)\n",
    "\n",
    "Litter Size = 8 (Number of pups per pair of mating rats)\n",
    "\n",
    "Litter per Year = 10 (Number of litters per year per pair of mating rats)\n",
    "\n",
    "Generation Limit = 500 (Max number of generation allowed for the breeding program)"
   ]
  },
  {
   "cell_type": "code",
   "execution_count": 1,
   "metadata": {},
   "outputs": [],
   "source": [
    "import time \n",
    "import random\n",
    "import statistics\n",
    "\n",
    "# Assumed constants (weights are in gram)\n",
    "GOAL = 50000\n",
    "NUM_RATS = 20\n",
    "INITIAL_MIN_WT = 200\n",
    "INITIAL_MAX_WT = 600\n",
    "INITIAL_AVG_WT = 300\n",
    "MUTATE_ODDS = 0.01\n",
    "MUTATE_MIN = 0.5\n",
    "MUTATE_MAX = 1.2\n",
    "LITTER_SIZE = 8\n",
    "LITTERS_PER_YEAR = 10\n",
    "GENERATION_LIMIT = 500\n",
    "\n",
    "# Ensure even-number of rats for breeding pairs:\n",
    "if NUM_RATS%2 != 0:\n",
    "    NUM_RATS != 1"
   ]
  },
  {
   "attachments": {},
   "cell_type": "markdown",
   "metadata": {},
   "source": [
    "### Initialize the population"
   ]
  },
  {
   "cell_type": "code",
   "execution_count": 14,
   "metadata": {},
   "outputs": [
    {
     "name": "stdout",
     "output_type": "stream",
     "text": [
      "[519, 303, 336, 299, 395, 330, 466, 411, 293, 393, 264, 239, 440, 472, 320, 235, 334, 259, 414, 338]\n",
      "20\n"
     ]
    }
   ],
   "source": [
    "def populate_rat(num_rats,min_wt,max_wt,mode_wt):\n",
    "    \"\"\"Initialize the starting population of rats using triangle distribution\"\"\"\n",
    "    return [int(random.triangular(min_wt,max_wt,mode_wt)) for i in range(num_rats)]\n",
    "\n",
    "gen_0 = populate_rat(NUM_RATS,INITIAL_MIN_WT,INITIAL_MAX_WT,INITIAL_AVG_WT)\n",
    "print(gen_0)\n",
    "print(len(gen_0))"
   ]
  },
  {
   "attachments": {},
   "cell_type": "markdown",
   "metadata": {},
   "source": [
    "### In order to represent my data, I will create a panda dataframe with min, max, and mean values that can later be graphed"
   ]
  },
  {
   "cell_type": "code",
   "execution_count": 12,
   "metadata": {},
   "outputs": [
    {
     "data": {
      "text/html": [
       "<div>\n",
       "<style scoped>\n",
       "    .dataframe tbody tr th:only-of-type {\n",
       "        vertical-align: middle;\n",
       "    }\n",
       "\n",
       "    .dataframe tbody tr th {\n",
       "        vertical-align: top;\n",
       "    }\n",
       "\n",
       "    .dataframe thead th {\n",
       "        text-align: right;\n",
       "    }\n",
       "</style>\n",
       "<table border=\"1\" class=\"dataframe\">\n",
       "  <thead>\n",
       "    <tr style=\"text-align: right;\">\n",
       "      <th></th>\n",
       "      <th>Min</th>\n",
       "      <th>Max</th>\n",
       "      <th>Mean</th>\n",
       "      <th>Raw</th>\n",
       "    </tr>\n",
       "  </thead>\n",
       "  <tbody>\n",
       "  </tbody>\n",
       "</table>\n",
       "</div>"
      ],
      "text/plain": [
       "Empty DataFrame\n",
       "Columns: [Min, Max, Mean, Raw]\n",
       "Index: []"
      ]
     },
     "execution_count": 12,
     "metadata": {},
     "output_type": "execute_result"
    }
   ],
   "source": [
    "import pandas as pd\n",
    "\n",
    "df = pd.DataFrame(columns=['Min','Max','Mean','Raw'])\n",
    "\n",
    "df.head()"
   ]
  },
  {
   "attachments": {},
   "cell_type": "markdown",
   "metadata": {},
   "source": [
    "### Create selection defining equations"
   ]
  },
  {
   "cell_type": "code",
   "execution_count": 148,
   "metadata": {},
   "outputs": [],
   "source": [
    "def fitness(population,goal):\n",
    "    \"\"\"\n",
    "    Measure 'fitness' of population via mean / target\n",
    "    The number will start low since the initial weight is low\n",
    "    When fitness returns 1, the condition will have been met\n",
    "    \"\"\"\n",
    "    ave = statistics.mean(population)\n",
    "    return ave/goal\n",
    "\n",
    "def selection(population,to_retain):\n",
    "    \"\"\"\n",
    "    Cull population to retain only a specified number of rats\n",
    "    Assumptions:\n",
    "        _Male rats are always bigger than female rats\n",
    "    To make it simply, I will simply split the ordered population by half\n",
    "    Then, I will take the bigger half of each gender for the next round of selection\n",
    "    \"\"\"\n",
    "    # step 1: sort population\n",
    "    sorted_pop = sorted(population)\n",
    "\n",
    "    # step 2: split population into female and male\n",
    "    females = sorted_pop[:to_retain]\n",
    "    males   = sorted_pop[to_retain:]\n",
    "\n",
    "    # step 3: pick the upper part of each gender\n",
    "    x = int(to_retain/2)\n",
    "    females_retained = females[-x:]\n",
    "    males_retained = males[-x:]\n",
    "\n",
    "    return males_retained,females_retained"
   ]
  },
  {
   "cell_type": "code",
   "execution_count": 34,
   "metadata": {},
   "outputs": [
    {
     "data": {
      "text/plain": [
       "tuple"
      ]
     },
     "execution_count": 34,
     "metadata": {},
     "output_type": "execute_result"
    }
   ],
   "source": [
    "selection(gen_0,10)"
   ]
  },
  {
   "attachments": {},
   "cell_type": "markdown",
   "metadata": {},
   "source": [
    "### Create a breeding equation"
   ]
  },
  {
   "cell_type": "code",
   "execution_count": 32,
   "metadata": {},
   "outputs": [],
   "source": [
    "def breed(males,females,litter_size):\n",
    "    \"\"\"\n",
    "    This function will breed offsprings whose weight is randomly chosen between\n",
    "    the min(mom's weight) and the max(dad's weight)...don't worry, we will add\n",
    "    mutation later so that it is possible to outweight the dad\n",
    "\n",
    "    In another word, this is offspring creation with no mutation\n",
    "    \"\"\"\n",
    "    children = []\n",
    "    random.shuffle(males) #shuffles the list to create random pairing\n",
    "    random.shuffle(females)\n",
    "\n",
    "    for male,female in zip(males,females): #zip will pair a male with a female\n",
    "        for child in range(litter_size):\n",
    "            child = random.randint(female,male)\n",
    "            children.append(child)\n",
    "\n",
    "    return children"
   ]
  },
  {
   "cell_type": "code",
   "execution_count": 43,
   "metadata": {},
   "outputs": [
    {
     "data": {
      "text/plain": [
       "40"
      ]
     },
     "execution_count": 43,
     "metadata": {},
     "output_type": "execute_result"
    }
   ],
   "source": [
    "selected = selection(gen_0,10)\n",
    "len(breed(selected[1],selected[0],LITTER_SIZE))\n",
    "#returned length makes sense because there are 5 pairs of mice, each will have 8 offsprings"
   ]
  },
  {
   "attachments": {},
   "cell_type": "markdown",
   "metadata": {},
   "source": [
    "### Create function for mutation of mice"
   ]
  },
  {
   "cell_type": "code",
   "execution_count": 161,
   "metadata": {},
   "outputs": [],
   "source": [
    "def mutation(children,mutate_odds,mutate_min,mutate_max):\n",
    "    \"\"\"\n",
    "    Function will randomly mutate rats based on predefined mutation odds\n",
    "    \"\"\"\n",
    "    mutated = [x for x in children]\n",
    "    for index,rat in enumerate(children):\n",
    "        if True: # random.random() will generate a number between 0 and 1\n",
    "            # if mutate odds is 0.01 --> then there is a 1% chance of mutation\n",
    "\n",
    "            # if mutation occurs, the rat's weight is randomly adjusted in th range of our\n",
    "            # mutation min and max\n",
    "            mutated[index] = round(rat * random.uniform(mutate_min,mutate_max))\n",
    "    \n",
    "    return mutated"
   ]
  },
  {
   "cell_type": "code",
   "execution_count": 146,
   "metadata": {},
   "outputs": [
    {
     "data": {
      "text/html": [
       "<div>\n",
       "<style scoped>\n",
       "    .dataframe tbody tr th:only-of-type {\n",
       "        vertical-align: middle;\n",
       "    }\n",
       "\n",
       "    .dataframe tbody tr th {\n",
       "        vertical-align: top;\n",
       "    }\n",
       "\n",
       "    .dataframe thead th {\n",
       "        text-align: right;\n",
       "    }\n",
       "</style>\n",
       "<table border=\"1\" class=\"dataframe\">\n",
       "  <thead>\n",
       "    <tr style=\"text-align: right;\">\n",
       "      <th></th>\n",
       "      <th>gen</th>\n",
       "      <th>mutated</th>\n",
       "    </tr>\n",
       "  </thead>\n",
       "  <tbody>\n",
       "    <tr>\n",
       "      <th>0</th>\n",
       "      <td>426</td>\n",
       "      <td>652</td>\n",
       "    </tr>\n",
       "    <tr>\n",
       "      <th>1</th>\n",
       "      <td>451</td>\n",
       "      <td>675</td>\n",
       "    </tr>\n",
       "    <tr>\n",
       "      <th>2</th>\n",
       "      <td>352</td>\n",
       "      <td>608</td>\n",
       "    </tr>\n",
       "    <tr>\n",
       "      <th>3</th>\n",
       "      <td>395</td>\n",
       "      <td>474</td>\n",
       "    </tr>\n",
       "    <tr>\n",
       "      <th>4</th>\n",
       "      <td>445</td>\n",
       "      <td>599</td>\n",
       "    </tr>\n",
       "  </tbody>\n",
       "</table>\n",
       "</div>"
      ],
      "text/plain": [
       "   gen  mutated\n",
       "0  426      652\n",
       "1  451      675\n",
       "2  352      608\n",
       "3  395      474\n",
       "4  445      599"
      ]
     },
     "execution_count": 146,
     "metadata": {},
     "output_type": "execute_result"
    }
   ],
   "source": [
    "gen_next = breed(selected[1],selected[0],LITTER_SIZE)\n",
    "mutated = mutation(gen_next,1,1,2)\n",
    "\n",
    "data = {\"gen\":gen_next,\"mutated\":mutated}\n",
    "compare_df = pd.DataFrame(data)\n",
    "compare_df.head(5)\n",
    "# as you can see, mutation is actually very rare, I took the liberty of adjusting mutate odd to 1 to show some results\n",
    "# in the final function, instead of populating a new list, I will use the same variable to save some memory"
   ]
  },
  {
   "cell_type": "code",
   "execution_count": 147,
   "metadata": {},
   "outputs": [],
   "source": [
    "def mutation(children,mutate_odds,mutate_min,mutate_max):\n",
    "    \"\"\"\n",
    "    Function will randomly mutate rats based on predefined mutation odds\n",
    "    \"\"\"\n",
    "    for index,rat in enumerate(children):\n",
    "        if mutate_odds >= random.random(): # random.random() will generate a number between 0 and 1\n",
    "            # if mutate odds is 0.01 --> then there is a 1% chance of mutation\n",
    "            # if mutation occurs, the rat's weight is randomly adjusted in th range of our mutation min and max\n",
    "            children[index] = round(rat * random.uniform(mutate_min,mutate_max))\n",
    "    return children"
   ]
  },
  {
   "attachments": {},
   "cell_type": "markdown",
   "metadata": {},
   "source": [
    "### Create main() function"
   ]
  },
  {
   "cell_type": "code",
   "execution_count": 169,
   "metadata": {},
   "outputs": [],
   "source": [
    "def main():\n",
    "    \"\"\"\n",
    "    Bringing them all together\n",
    "    \"\"\"\n",
    "    gen = 0\n",
    "    \n",
    "    parents = populate_rat(NUM_RATS,INITIAL_MIN_WT,INITIAL_MAX_WT,INITIAL_AVG_WT)\n",
    "\n",
    "    fitness_coef = fitness(parents,GOAL)\n",
    "\n",
    "    avg_wt = []\n",
    "    min_wt = []\n",
    "    max_wt = []\n",
    "    fit_co = []\n",
    "\n",
    "    while fitness_coef < 1 and gen < 1000000:\n",
    "        selected_males,selected_females = selection(parents,NUM_RATS)\n",
    "        children = breed(selected_males,selected_females,LITTER_SIZE)\n",
    "        children = mutation(children,1,MUTATE_MIN,MUTATE_MAX)\n",
    "        parents = selected_males + selected_females + children\n",
    "\n",
    "        avg_wt.append(statistics.mean(parents))\n",
    "        min_wt.append(max(parents))\n",
    "        max_wt.append(max(parents))\n",
    "\n",
    "        fitness_coef = fitness(parents,GOAL)\n",
    "        fit_co.append(fitness_coef)\n",
    "        \n",
    "        gen+=1\n",
    "\n",
    "    data = {\n",
    "        'Min':min_wt,\n",
    "        'Max':max_wt,\n",
    "        'Mean':avg_wt,\n",
    "        'Fitness':fit_co\n",
    "    }\n",
    "    df = pd.DataFrame(data)\n",
    "    return df"
   ]
  },
  {
   "cell_type": "code",
   "execution_count": 170,
   "metadata": {},
   "outputs": [],
   "source": [
    "df = main()"
   ]
  },
  {
   "cell_type": "code",
   "execution_count": 171,
   "metadata": {},
   "outputs": [
    {
     "name": "stdout",
     "output_type": "stream",
     "text": [
      "        Min  Max   Mean   Fitness\n",
      "0       528  528  455.4  0.009108\n",
      "1       528  528  455.4  0.009108\n",
      "2       528  528  455.4  0.009108\n",
      "3       528  528  455.4  0.009108\n",
      "4       528  528  455.4  0.009108\n",
      "...     ...  ...    ...       ...\n",
      "999995  528  528  455.4  0.009108\n",
      "999996  528  528  455.4  0.009108\n",
      "999997  528  528  455.4  0.009108\n",
      "999998  528  528  455.4  0.009108\n",
      "999999  528  528  455.4  0.009108\n",
      "\n",
      "[1000000 rows x 4 columns]\n"
     ]
    }
   ],
   "source": [
    "print(df)"
   ]
  },
  {
   "cell_type": "code",
   "execution_count": null,
   "metadata": {},
   "outputs": [],
   "source": []
  }
 ],
 "metadata": {
  "kernelspec": {
   "display_name": "Python 3",
   "language": "python",
   "name": "python3"
  },
  "language_info": {
   "codemirror_mode": {
    "name": "ipython",
    "version": 3
   },
   "file_extension": ".py",
   "mimetype": "text/x-python",
   "name": "python",
   "nbconvert_exporter": "python",
   "pygments_lexer": "ipython3",
   "version": "3.10.9 (tags/v3.10.9:1dd9be6, Dec  6 2022, 20:01:21) [MSC v.1934 64 bit (AMD64)]"
  },
  "orig_nbformat": 4,
  "vscode": {
   "interpreter": {
    "hash": "316074517b5fe31c6053ad3df028de4621616c745734923c4443afbd31c8a500"
   }
  }
 },
 "nbformat": 4,
 "nbformat_minor": 2
}
